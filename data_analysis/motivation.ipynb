{
  "cells": [
    {
      "cell_type": "markdown",
      "metadata": {
        "id": "TQ6hgbMw_9X9"
      },
      "source": [
        "# Data Collection"
      ]
    },
    {
      "cell_type": "code",
      "execution_count": 5,
      "metadata": {
        "colab": {
          "base_uri": "https://localhost:8080/"
        },
        "id": "mqG-dL65tFaB",
        "outputId": "1228e45a-3495-43aa-ea7f-e3f9dd36b036"
      },
      "outputs": [],
      "source": [
        "import pandas as pd\n",
        "import numpy as np\n",
        "from binance.client import Client\n",
        "import datetime as dt\n",
        "import matplotlib.pyplot as plt\n",
        "import statistics\n",
        "\n",
        "# client configuration - keys not needed here since using free api\n",
        "api_key = 'API HERE'\n",
        "api_secret = 'SECRET API HERE'\n",
        "client = Client(api_key, api_secret, tld='us')"
      ]
    },
    {
      "cell_type": "code",
      "execution_count": 6,
      "metadata": {
        "id": "0lhcvCVPqQL_"
      },
      "outputs": [],
      "source": [
        "# get dataframe of many metrics for a crypto\n",
        "def get_crypto_data(symbol, interval, data_start_date, data_end_date):\n",
        "  klines = client.get_historical_klines(symbol, interval, data_start_date, data_end_date)\n",
        "  data = pd.DataFrame(klines)\n",
        "  data.columns = ['open_time','open', 'high', 'low', 'close', 'volume','close_time', 'qav','num_trades','taker_base_vol','taker_quote_vol','ignore']\n",
        "  data.index = [dt.datetime.fromtimestamp(x/1000.0) for x in data.open_time] # date formating\n",
        "  df=data.astype(float)\n",
        "  return df[['open','high','low','close','volume','num_trades']]\n",
        "\n",
        "# get dataframe of closing prices for a crypto\n",
        "def get_closing_prices(symbol, interval, data_start_date, data_end_date):\n",
        "  klines = client.get_historical_klines(symbol, interval, data_start_date, data_end_date)\n",
        "  data = pd.DataFrame(klines)\n",
        "  data.columns = ['open_time','open', 'high', 'low', 'close', 'volume','close_time', 'qav','num_trades','taker_base_vol','taker_quote_vol','ignore']\n",
        "  data.index = [dt.datetime.fromtimestamp(x/1000.0) for x in data.open_time] # date formating\n",
        "  df=data.astype(float)\n",
        "  return df[['close']]"
      ]
    },
    {
      "cell_type": "markdown",
      "metadata": {
        "id": "vupGuC-g6yVH"
      },
      "source": [
        "# Basic Model"
      ]
    },
    {
      "cell_type": "code",
      "execution_count": null,
      "metadata": {},
      "outputs": [],
      "source": [
        "# return list of prices for each token\n",
        "def get_prices(tokens):\n",
        "  data_start_date = \"26 Aug, 2022\"\n",
        "  data_end_date = \"26 Nov, 2022\"\n",
        "\n",
        "  # all tokens must have equal amount of price data\n",
        "  out = {}\n",
        "  df = get_closing_prices(tokens[0], '1m', data_start_date, data_end_date)\n",
        "  amount_data = len(df.index)\n",
        "  out[tokens[0]] = df['close'].tolist()\n",
        "\n",
        "  i = 1\n",
        "  for i in range(len(tokens)):\n",
        "    df = get_closing_prices(tokens[i], '1m', data_start_date, data_end_date)\n",
        "    if amount_data == len(df.index):\n",
        "      out[tokens[i]] = df['close'].tolist()\n",
        "    else:\n",
        "      print(f\"Not enought data, excluding {tokens[i]}\")\n",
        "  return out\n",
        "\n",
        "# get prices data\n",
        "tokens = ['BTCUSDT','ETHUSDT','DOTUSDT','DOGEUSDT','XRPUSDT','BNBUSDT','MATICUSDT','ADAUSDT','TRXUSDT','AVAXUSDT','NEARUSDT']\n",
        "tokens = ['BTCUSDT','ETHUSDT']\n",
        "prices = get_prices(tokens)\n",
        "\n",
        "# find correlations of prices between many different tokens\n",
        "corrs = []\n",
        "for r in range(len(tokens)):\n",
        "  corr_row = []\n",
        "  for c in range(len(tokens)):\n",
        "    corr_row += [np.corrcoef(prices[tokens[r]], prices[tokens[c]])[0][1]]\n",
        "  corrs += [corr_row]\n",
        "corrs_df = pd.DataFrame(corrs)\n",
        "corrs_df.columns = tokens\n",
        "corrs_df.index = tokens\n",
        "corrs_df"
      ]
    },
    {
      "cell_type": "code",
      "execution_count": 39,
      "metadata": {
        "id": "qg9CFDMv60ci"
      },
      "outputs": [],
      "source": [
        "# functions\n",
        "\n",
        "# given: past data for token1 and token2 in 1 min increments\n",
        "# returns: True if should buy token1, False to buy nothing\n",
        "def get_signal(t1, t2, a):\n",
        "  assert(len(t1) == len(t2))\n",
        "\n",
        "  change1 = (t1[-1] - t1[0]) / t1[0]\n",
        "  change2 = (t2[-1] - t2[0]) / t2[0]\n",
        "\n",
        "  if change1 < -a and change2 > a:\n",
        "    return True\n",
        "  return False\n",
        "\n",
        "# list of returns obtained using signal\n",
        "def get_returns(token1, token2, a, lookback, hold):\n",
        "  prices1 = prices[token1]\n",
        "  prices2 = prices[token2]\n",
        "  assert len(prices1) == len(prices2), \"list of price data must be equal length\"\n",
        "\n",
        "  i = lookback\n",
        "  returns = []\n",
        "  while i <= len(prices1) - hold:\n",
        "    # buy at i-1?\n",
        "    signal = get_signal(prices1[i-lookback:i], prices2[i-lookback:i], a)\n",
        "    if signal == 1:\n",
        "      returns += [(prices1[i+hold-1]-prices1[i-1])/prices1[i-1] - 0.001] # binance fee\n",
        "    i += 1\n",
        "\n",
        "  return returns\n",
        "\n",
        "# total return using signal\n",
        "def total_return(token1, token2, a, lookback, hold):\n",
        "  prices1 = prices[token1]\n",
        "  prices2 = prices[token2]\n",
        "  assert len(prices1) == len(prices2), \"list of price data must be equal length\"\n",
        "\n",
        "  i = lookback\n",
        "  total = 0\n",
        "  while i <= len(prices1) - hold:\n",
        "    # buy at i-1?\n",
        "    signal = get_signal(prices1[i-lookback:i], prices2[i-lookback:i], a)\n",
        "    if signal == 1:\n",
        "      total += (prices1[i+hold-1]-prices1[i-1])/prices1[i-1] - 0.001 # binance fee\n",
        "    i += 1\n",
        "\n",
        "  return total\n",
        "\n",
        "# get number of signals present\n",
        "def num_signals(token1, token2, a, lookback, hold):\n",
        "  prices1 = prices[token1]\n",
        "  prices2 = prices[token2]\n",
        "  assert len(prices1) == len(prices2), \"list of price data must be equal length\"\n",
        "\n",
        "  i = lookback\n",
        "  total = 0\n",
        "  while i <= len(prices1) - hold:\n",
        "    # buy at i-1?\n",
        "    signal = get_signal(prices1[i-lookback:i], prices2[i-lookback:i], a)\n",
        "    if signal == 1:\n",
        "      total += 1\n",
        "    i += 1\n",
        "\n",
        "  return total"
      ]
    },
    {
      "cell_type": "code",
      "execution_count": 24,
      "metadata": {
        "colab": {
          "base_uri": "https://localhost:8080/"
        },
        "id": "hirENAcUvQe5",
        "outputId": "3b425822-c27f-4de8-8fad-e67cd25b84e2"
      },
      "outputs": [
        {
          "name": "stdout",
          "output_type": "stream",
          "text": [
            "(0.10995056448839616, 0.0015, 60, 65)\n"
          ]
        }
      ],
      "source": [
        "# to decide: optimal a, time to look back, time to hold in the future\n",
        "\n",
        "alphas = list(np.arange(0., 0.01, 0.0005))\n",
        "lookbacks = list(range(5, 120, 5))\n",
        "holds = list(range(5, 120, 5))\n",
        "\n",
        "returns = []\n",
        "best = (0, -1, -1, -1)\n",
        "for a in alphas:\n",
        "  for l in lookbacks:\n",
        "    for h in holds:\n",
        "      check = (total_return('BTCUSDT', 'ETHUSDT', a, l, h), a, l, h)\n",
        "      if check > best:\n",
        "        best = check\n",
        "\n",
        "print(best) # best is (0.10995056448839616, 0.0015, 60, 65)"
      ]
    },
    {
      "cell_type": "code",
      "execution_count": 42,
      "metadata": {
        "colab": {
          "base_uri": "https://localhost:8080/"
        },
        "id": "ZqwDpgHNVFTf",
        "outputId": "e7c4f558-c3c9-475c-a113-8280bd8186bf"
      },
      "outputs": [
        {
          "name": "stdout",
          "output_type": "stream",
          "text": [
            "Num signals. :  1402\n",
            "Num pos sign :  658\n",
            "Tot return   :  0.011602181836971207\n",
            "Standard dev :  0.007934591991312384\n"
          ]
        }
      ],
      "source": [
        "# use optimal weights to inspect variance\n",
        "ret, alpha, l, h = best # (0.10995056448839616, 0.0015, 60, 65)\n",
        "\n",
        "num_signals_best = num_signals('BTCUSDT', 'ETHUSDT', alpha, l, h)\n",
        "returns = get_returns('BTCUSDT', 'ETHUSDT', alpha, l, h)\n",
        "total_ret = total_return('BTCUSDT', 'ETHUSDT', alpha, l, h)\n",
        "positive = len(list(filter(lambda x: x >= 0, returns)))\n",
        "sd = np.var(returns) ** 0.5\n",
        "\n",
        "print(f\"Num signals. :  {num_signals_best}\")\n",
        "print(f\"Num pos sign :  {positive}\")\n",
        "print(f\"Tot return   :  {total_ret}\")\n",
        "print(f\"Standard dev :  {sd}\")"
      ]
    },
    {
      "cell_type": "markdown",
      "metadata": {
        "id": "A4VpxIbKAC-0"
      },
      "source": [
        "# Multi Model\n"
      ]
    },
    {
      "cell_type": "code",
      "execution_count": 13,
      "metadata": {
        "id": "4WwPzGCI2nMZ"
      },
      "outputs": [],
      "source": [
        "# return list of prices for each token\n",
        "def get_prices(tokens):\n",
        "  data_start_date = \"26 Nov, 2021\"\n",
        "  data_end_date = \"26 Nov, 2022\"\n",
        "\n",
        "  # all tokens must have equal amount of price data\n",
        "  out = {}\n",
        "  df = get_closing_prices(tokens[0], '15m', data_start_date, data_end_date)\n",
        "  amount_data = len(df.index)\n",
        "  out[tokens[0]] = df['close'].tolist()\n",
        "\n",
        "  i = 1\n",
        "  for i in range(len(tokens)):\n",
        "    df = get_closing_prices(tokens[i], '15m', data_start_date, data_end_date)\n",
        "    if amount_data == len(df.index):\n",
        "      out[tokens[i]] = df['close'].tolist()\n",
        "    else:\n",
        "      print(f\"Not enought data, excluding {tokens[i]}\")\n",
        "  return out\n",
        "\n",
        "# get prices data\n",
        "tokens = ['BTCUSDT','ETHUSDT','DOTUSDT','DOGEUSDT','XRPUSDT','BNBUSDT','MATICUSDT','ADAUSDT','TRXUSDT','AVAXUSDT','NEARUSDT']\n",
        "prices = get_prices(tokens)\n",
        "\n",
        "# given: past data for token1 and token2 in 15 min increments\n",
        "# returns: True if should buy token1, False to buy nothing\n",
        "def get_signal(t1, t_others, a):\n",
        "  change1 = (t1[-1] - t1[0]) / t1[0]\n",
        "  changes = []\n",
        "  for t2 in t_others:\n",
        "    changes += [(t2[-1] - t2[0]) / t2[0]]\n",
        "  change2 = sum(changes) / len(changes)\n",
        "\n",
        "  if change1 < -a and change2 > a:\n",
        "    return True\n",
        "  return False\n",
        "\n",
        "# list of returns obtained using signal\n",
        "def get_returns(token1, others, a, lookback, hold):\n",
        "  prices1 = prices[token1]\n",
        "  prices_others = []\n",
        "  for other in others:\n",
        "    prices_others += [prices[other]]\n",
        "    assert len(prices1) == len(prices[other]), \"list of price data must be equal length\"\n",
        "\n",
        "  i = lookback\n",
        "  returns = []\n",
        "  while i <= len(prices1) - hold:\n",
        "    # buy at i-1?\n",
        "    signal = get_signal(prices1[i-lookback:i], list(map(lambda x: x[i-lookback:i],prices_others)), a)\n",
        "    if signal == 1:\n",
        "      returns += [(prices1[i+hold-1]-prices1[i-1])/prices1[i-1] - 0.001] # binance fee\n",
        "    i += 1\n",
        "\n",
        "  return returns\n",
        "\n",
        "# total return using signal\n",
        "def total_return(token1, others, a, lookback, hold):\n",
        "  return sum(get_returns(token1, others, a, lookback, hold))\n",
        "\n",
        "# get number of signals present\n",
        "def num_signals(token1, others, a, lookback, hold):\n",
        "  return len(get_returns(token1, others, a, lookback, hold))"
      ]
    },
    {
      "cell_type": "code",
      "execution_count": 10,
      "metadata": {
        "colab": {
          "base_uri": "https://localhost:8080/"
        },
        "id": "VdimbrVL6HEL",
        "outputId": "c2f16ade-4c69-4f39-a951-6c00fdab941c"
      },
      "outputs": [
        {
          "name": "stdout",
          "output_type": "stream",
          "text": [
            "(0.09179482926122871, 0.0035, 7, 3)\n"
          ]
        }
      ],
      "source": [
        "# to decide: optimal a, time to look back, time to hold in the future\n",
        "\n",
        "alphas = list(np.arange(0., 0.01, 0.0005))\n",
        "lookbacks = list(range(1, 9))\n",
        "holds = list(range(1, 9))\n",
        "others = ['ETHUSDT','DOTUSDT','DOGEUSDT','XRPUSDT','BNBUSDT','MATICUSDT','ADAUSDT','TRXUSDT','AVAXUSDT','NEARUSDT']\n",
        "\n",
        "returns = []\n",
        "best = (0, -1, -1, -1)\n",
        "for a in alphas:\n",
        "  for l in lookbacks:\n",
        "    for h in holds:\n",
        "      \n",
        "      check = (total_return('BTCUSDT', others, a, l, h), a, l, h)\n",
        "      if check > best:\n",
        "        best = check\n",
        "\n",
        "print(best) # best is (0.09179482926122871, 0.0035, 7, 3)"
      ]
    },
    {
      "cell_type": "code",
      "execution_count": 15,
      "metadata": {
        "colab": {
          "base_uri": "https://localhost:8080/"
        },
        "id": "4SIApMi47wXM",
        "outputId": "4fe24bc9-b4d9-4f92-8edb-3f8b00900e87"
      },
      "outputs": [
        {
          "name": "stdout",
          "output_type": "stream",
          "text": [
            "Num signals. :  41\n",
            "Num pos sign :  24\n",
            "Tot return   :  0.014577789699355425\n",
            "Standard dev :  0.011908985315088232\n",
            "[-0.011071428312967427, 0.006569294000119456, 0.011929946996447657, 0.007144231628427433, 0.008543145576396623, 0.0011358771474355924, 0.0028321770325903336, 0.0007402311073360581, 0.00038921813519718807, -0.0003053285071038539, -0.020849582710340243, -0.008212768230088993, -0.014670286680217332, 0.005501593072982752, 0.007848675114192825, -0.004218705126785639, 0.006419833797130423, -0.004066623884254051, -0.023580878057331323, -0.01638692789136529, 0.02085874533341953, 0.0015287773528304717, 0.0073407974532613265, -0.004273836996648434, 0.009911624493330634, 0.040766132150019084, 0.0019446423382800029, 0.010254009909753822, 0.009991595492924985, -0.0039348478275362635, 0.004217533331720183, 0.00758885501396971, -0.007639854057000398, 0.002115439317914311, -0.0015148626474823222, -0.0004489103384317097, -0.03030715780977449, 0.0008503306862840537, -0.010619053389512773, 0.00105053282599096, -0.00079439714175945]\n"
          ]
        }
      ],
      "source": [
        "# use optimal weights to inspect variance\n",
        "ret, alpha, l, h = (0.09179482926122871, 0.0035, 4, 4)\n",
        "\n",
        "num_signals_best = num_signals('BTCUSDT', others, alpha, l, h)\n",
        "returns = get_returns('BTCUSDT', others, alpha, l, h)\n",
        "total_ret = total_return('BTCUSDT', others, alpha, l, h)\n",
        "positive = len(list(filter(lambda x: x >= 0, returns)))\n",
        "sd = np.var(returns) ** 0.5\n",
        "\n",
        "print(f\"Num signals. :  {num_signals_best}\")\n",
        "print(f\"Num pos sign :  {positive}\")\n",
        "print(f\"Tot return   :  {total_ret}\")\n",
        "print(f\"Standard dev :  {sd}\")\n",
        "print(returns)"
      ]
    }
  ],
  "metadata": {
    "colab": {
      "provenance": []
    },
    "kernelspec": {
      "display_name": "Python 3.9.0 64-bit",
      "language": "python",
      "name": "python3"
    },
    "language_info": {
      "codemirror_mode": {
        "name": "ipython",
        "version": 3
      },
      "file_extension": ".py",
      "mimetype": "text/x-python",
      "name": "python",
      "nbconvert_exporter": "python",
      "pygments_lexer": "ipython3",
      "version": "3.9.0"
    },
    "vscode": {
      "interpreter": {
        "hash": "aee8b7b246df8f9039afb4144a1f6fd8d2ca17a180786b69acc140d282b71a49"
      }
    }
  },
  "nbformat": 4,
  "nbformat_minor": 0
}
